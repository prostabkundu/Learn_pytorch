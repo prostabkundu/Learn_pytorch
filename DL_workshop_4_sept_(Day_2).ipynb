{
  "nbformat": 4,
  "nbformat_minor": 0,
  "metadata": {
    "colab": {
      "provenance": []
    },
    "kernelspec": {
      "name": "python3",
      "display_name": "Python 3"
    },
    "language_info": {
      "name": "python"
    }
  },
  "cells": [
    {
      "cell_type": "code",
      "execution_count": null,
      "metadata": {
        "id": "5Tj4-NTed4QK"
      },
      "outputs": [],
      "source": []
    },
    {
      "cell_type": "code",
      "execution_count": null,
      "metadata": {
        "id": "Iw7lRHl2ZwSq"
      },
      "outputs": [],
      "source": [
        "import torch.optim as optim"
      ]
    },
    {
      "cell_type": "code",
      "source": [
        "# SGD\n",
        "# optimizer = optim.SGD(p, lr = 0.01)"
      ],
      "metadata": {
        "id": "fIDJ3dV0dk81"
      },
      "execution_count": null,
      "outputs": []
    },
    {
      "cell_type": "code",
      "source": [
        "# optimizer = optim.AdaGrad(p, lr = 0.01)"
      ],
      "metadata": {
        "id": "ZPR7BO2Oecjq"
      },
      "execution_count": null,
      "outputs": []
    },
    {
      "cell_type": "code",
      "source": [
        "# optimizer = optim.RMSprop(p, lr = 0.01, alpha = 0.99)\n"
      ],
      "metadata": {
        "id": "D3x7J0fCen3h"
      },
      "execution_count": null,
      "outputs": []
    },
    {
      "cell_type": "code",
      "source": [
        "# optimizer = optim.Adam(p, lr = 0.01)"
      ],
      "metadata": {
        "id": "wq0yZopqe17h"
      },
      "execution_count": null,
      "outputs": []
    },
    {
      "cell_type": "markdown",
      "source": [
        "# ANN"
      ],
      "metadata": {
        "id": "dOSIeDh9fFpf"
      }
    },
    {
      "cell_type": "code",
      "source": [
        "import torch\n",
        "import torch.nn as nn\n",
        "\n",
        "layer1 = nn.Linear(in_features = 3, out_features = 2)\n",
        "\n",
        "in1 = torch.tensor([1.0, 2.0, 3.0])\n",
        "\n",
        "out1 = layer1(in1)\n",
        "\n",
        "print(out1)\n"
      ],
      "metadata": {
        "colab": {
          "base_uri": "https://localhost:8080/"
        },
        "id": "PgcOIye4fHFt",
        "outputId": "0a1b1283-ccae-48a3-9235-c53f04f4bbbe"
      },
      "execution_count": null,
      "outputs": [
        {
          "output_type": "stream",
          "name": "stdout",
          "text": [
            "tensor([-1.2391, -1.2342], grad_fn=<ViewBackward0>)\n"
          ]
        }
      ]
    },
    {
      "cell_type": "code",
      "source": [
        "layer1.weight"
      ],
      "metadata": {
        "colab": {
          "base_uri": "https://localhost:8080/"
        },
        "id": "jZxXjzl1hOrU",
        "outputId": "34f5d5d9-0392-46c5-ef43-c7819f9ecdcd"
      },
      "execution_count": null,
      "outputs": [
        {
          "output_type": "execute_result",
          "data": {
            "text/plain": [
              "Parameter containing:\n",
              "tensor([[-0.0836,  0.3496, -0.5269],\n",
              "        [ 0.0593, -0.0011, -0.3120]], requires_grad=True)"
            ]
          },
          "metadata": {},
          "execution_count": 64
        }
      ]
    },
    {
      "cell_type": "code",
      "source": [
        "layer1.bias"
      ],
      "metadata": {
        "colab": {
          "base_uri": "https://localhost:8080/"
        },
        "id": "7RkOrhguhUmw",
        "outputId": "365f7a5e-ce3d-425a-97e8-06e459d4e07b"
      },
      "execution_count": null,
      "outputs": [
        {
          "output_type": "execute_result",
          "data": {
            "text/plain": [
              "Parameter containing:\n",
              "tensor([-0.2740, -0.3554], requires_grad=True)"
            ]
          },
          "metadata": {},
          "execution_count": 65
        }
      ]
    },
    {
      "cell_type": "code",
      "source": [
        "type(layer1.weight)"
      ],
      "metadata": {
        "colab": {
          "base_uri": "https://localhost:8080/"
        },
        "id": "Pft_nmv_hWyM",
        "outputId": "0183e4f2-de3d-4602-d7f0-43abc46436e2"
      },
      "execution_count": null,
      "outputs": [
        {
          "output_type": "execute_result",
          "data": {
            "text/plain": [
              "torch.nn.parameter.Parameter"
            ]
          },
          "metadata": {},
          "execution_count": 66
        }
      ]
    },
    {
      "cell_type": "code",
      "source": [
        "layer1.weight.data"
      ],
      "metadata": {
        "colab": {
          "base_uri": "https://localhost:8080/"
        },
        "id": "ld-NZnEuh0sm",
        "outputId": "4386b3ba-3d4b-4957-e6a4-ecd8bd6d7644"
      },
      "execution_count": null,
      "outputs": [
        {
          "output_type": "execute_result",
          "data": {
            "text/plain": [
              "tensor([[-0.0836,  0.3496, -0.5269],\n",
              "        [ 0.0593, -0.0011, -0.3120]])"
            ]
          },
          "metadata": {},
          "execution_count": 67
        }
      ]
    },
    {
      "cell_type": "code",
      "source": [
        "new_weights = torch.tensor([[0.5, -0.5, 1.0],[1.5,-1.5, 0.0]])\n",
        "new_bias = torch.tensor([0.1, -0.1])\n",
        "\n",
        "layer1.weight.data = new_weights\n",
        "layer1.bias.data = new_bias"
      ],
      "metadata": {
        "id": "TlOkUkFHiCJK"
      },
      "execution_count": null,
      "outputs": []
    },
    {
      "cell_type": "code",
      "source": [
        "out1 = layer1(in1)\n",
        "out1"
      ],
      "metadata": {
        "colab": {
          "base_uri": "https://localhost:8080/"
        },
        "id": "Xsi2Efzyigy0",
        "outputId": "a9103146-63bb-4b21-b7a3-e4da2cbcd22f"
      },
      "execution_count": null,
      "outputs": [
        {
          "output_type": "execute_result",
          "data": {
            "text/plain": [
              "tensor([ 2.6000, -1.6000], grad_fn=<ViewBackward0>)"
            ]
          },
          "metadata": {},
          "execution_count": 69
        }
      ]
    },
    {
      "cell_type": "code",
      "source": [
        "new_weights.requires_grad"
      ],
      "metadata": {
        "colab": {
          "base_uri": "https://localhost:8080/"
        },
        "id": "1iUK1kkMilpe",
        "outputId": "d4c75952-2422-46ae-833f-5f6ace15c515"
      },
      "execution_count": null,
      "outputs": [
        {
          "output_type": "execute_result",
          "data": {
            "text/plain": [
              "False"
            ]
          },
          "metadata": {},
          "execution_count": 70
        }
      ]
    },
    {
      "cell_type": "code",
      "source": [
        "layer1.weight.requires_grad"
      ],
      "metadata": {
        "colab": {
          "base_uri": "https://localhost:8080/"
        },
        "id": "VNiOP-z9irKW",
        "outputId": "d75394c7-37e8-496d-f61e-28a7605fba69"
      },
      "execution_count": null,
      "outputs": [
        {
          "output_type": "execute_result",
          "data": {
            "text/plain": [
              "True"
            ]
          },
          "metadata": {},
          "execution_count": 71
        }
      ]
    },
    {
      "cell_type": "code",
      "source": [
        "batch_input = torch.tensor([[1.0, 2, 3], [3.0, 5, 6], [7.0, 8, 9], [7.0, 8, 9]])\n",
        "\n",
        "batch_output = layer1(batch_input)\n",
        "\n",
        "print(batch_output)"
      ],
      "metadata": {
        "colab": {
          "base_uri": "https://localhost:8080/"
        },
        "id": "qbZK2oJOi5P1",
        "outputId": "5c3542fa-2162-4076-b7b2-7a474d58b96a"
      },
      "execution_count": null,
      "outputs": [
        {
          "output_type": "stream",
          "name": "stdout",
          "text": [
            "tensor([[ 2.6000, -1.6000],\n",
            "        [ 5.1000, -3.1000],\n",
            "        [ 8.6000, -1.6000],\n",
            "        [ 8.6000, -1.6000]], grad_fn=<AddmmBackward0>)\n"
          ]
        }
      ]
    },
    {
      "cell_type": "code",
      "source": [],
      "metadata": {
        "id": "CKxCyI11jafF"
      },
      "execution_count": null,
      "outputs": []
    },
    {
      "cell_type": "markdown",
      "source": [
        "## nn.Module"
      ],
      "metadata": {
        "id": "lmeaYdg4j5N8"
      }
    },
    {
      "cell_type": "code",
      "source": [
        "class LinearRegressionModel(nn.Module):\n",
        "  def __init__(self):\n",
        "    super(LinearRegressionModel, self).__init__()\n",
        "    self.layer1 = nn.Linear(in_features = 1, out_features = 1)\n",
        "\n",
        "  def forward(self, x):\n",
        "    return self.layer1(x)\n",
        "\n",
        "model = LinearRegressionModel()"
      ],
      "metadata": {
        "id": "dTGh89WPj7kR"
      },
      "execution_count": null,
      "outputs": []
    },
    {
      "cell_type": "code",
      "source": [
        "X = torch.linspace(0, 10, 15).reshape(-1, 1)\n",
        "pred = model(X)\n",
        "pred"
      ],
      "metadata": {
        "colab": {
          "base_uri": "https://localhost:8080/"
        },
        "id": "B2j5DUJCl8wF",
        "outputId": "6f38e76f-4833-4690-cf2d-2ea182dcd5eb"
      },
      "execution_count": null,
      "outputs": [
        {
          "output_type": "execute_result",
          "data": {
            "text/plain": [
              "tensor([[-0.5933],\n",
              "        [-0.2902],\n",
              "        [ 0.0129],\n",
              "        [ 0.3159],\n",
              "        [ 0.6190],\n",
              "        [ 0.9221],\n",
              "        [ 1.2251],\n",
              "        [ 1.5282],\n",
              "        [ 1.8313],\n",
              "        [ 2.1343],\n",
              "        [ 2.4374],\n",
              "        [ 2.7405],\n",
              "        [ 3.0435],\n",
              "        [ 3.3466],\n",
              "        [ 3.6497]], grad_fn=<AddmmBackward0>)"
            ]
          },
          "metadata": {},
          "execution_count": 74
        }
      ]
    },
    {
      "cell_type": "code",
      "source": [
        "model.layer1.weight"
      ],
      "metadata": {
        "colab": {
          "base_uri": "https://localhost:8080/"
        },
        "id": "JHNJNkximzNB",
        "outputId": "2814f869-fca0-4fb5-ef13-e5e67fd69bb8"
      },
      "execution_count": null,
      "outputs": [
        {
          "output_type": "execute_result",
          "data": {
            "text/plain": [
              "Parameter containing:\n",
              "tensor([[0.4243]], requires_grad=True)"
            ]
          },
          "metadata": {},
          "execution_count": 75
        }
      ]
    },
    {
      "cell_type": "code",
      "source": [
        "model.layer1.bias"
      ],
      "metadata": {
        "colab": {
          "base_uri": "https://localhost:8080/"
        },
        "id": "0-2NJW36nBoP",
        "outputId": "eb3b14c3-2286-46ef-9c09-2b56dac2fe1a"
      },
      "execution_count": null,
      "outputs": [
        {
          "output_type": "execute_result",
          "data": {
            "text/plain": [
              "Parameter containing:\n",
              "tensor([-0.5933], requires_grad=True)"
            ]
          },
          "metadata": {},
          "execution_count": 76
        }
      ]
    },
    {
      "cell_type": "code",
      "source": [
        "class SimpleModel(nn.Module):\n",
        "  def __init__(self):\n",
        "    super(SimpleModel, self).__init__()\n",
        "    self.layer1 = nn.Linear(10, 5)\n",
        "    self.relu = nn.ReLU()\n",
        "    self.layer2 = nn.Linear(5, 1)\n",
        "\n",
        "  def forward(self, x):\n",
        "    x = self.layer1(x)\n",
        "    x = self.relu(x)\n",
        "    x = self.layer2(x)\n",
        "    return x"
      ],
      "metadata": {
        "id": "Rb7xw3QenDSi"
      },
      "execution_count": null,
      "outputs": []
    },
    {
      "cell_type": "code",
      "source": [
        "net = SimpleModel()\n",
        "net"
      ],
      "metadata": {
        "colab": {
          "base_uri": "https://localhost:8080/"
        },
        "id": "lSShIzJXoZbz",
        "outputId": "c23bbf43-92ae-4763-e935-9502c256f11a"
      },
      "execution_count": null,
      "outputs": [
        {
          "output_type": "execute_result",
          "data": {
            "text/plain": [
              "SimpleModel(\n",
              "  (layer1): Linear(in_features=10, out_features=5, bias=True)\n",
              "  (relu): ReLU()\n",
              "  (layer2): Linear(in_features=5, out_features=1, bias=True)\n",
              ")"
            ]
          },
          "metadata": {},
          "execution_count": 78
        }
      ]
    },
    {
      "cell_type": "code",
      "source": [
        "input = torch.randn(1, 10)\n",
        "print(input)\n",
        "output = net(input)\n",
        "output"
      ],
      "metadata": {
        "colab": {
          "base_uri": "https://localhost:8080/"
        },
        "id": "o3MnurNaoiCl",
        "outputId": "391460a1-fc91-4d80-db1c-e749b57f68f7"
      },
      "execution_count": null,
      "outputs": [
        {
          "output_type": "stream",
          "name": "stdout",
          "text": [
            "tensor([[-0.9212,  0.7840,  0.1168,  0.9789, -0.6890, -2.4142,  1.3393, -0.2858,\n",
            "         -1.0372, -0.1790]])\n"
          ]
        },
        {
          "output_type": "execute_result",
          "data": {
            "text/plain": [
              "tensor([[-0.4047]], grad_fn=<AddmmBackward0>)"
            ]
          },
          "metadata": {},
          "execution_count": 79
        }
      ]
    },
    {
      "cell_type": "code",
      "source": [
        "print(net.layer1.weight)\n",
        "print(net.layer1.bias)\n",
        "print(net.layer2.weight)\n",
        "print(net.layer2.bias)"
      ],
      "metadata": {
        "colab": {
          "base_uri": "https://localhost:8080/"
        },
        "id": "3fsiBOWrpFfO",
        "outputId": "9803e16f-be11-4eb3-8cfc-48b00fd3970f"
      },
      "execution_count": null,
      "outputs": [
        {
          "output_type": "stream",
          "name": "stdout",
          "text": [
            "Parameter containing:\n",
            "tensor([[-0.0684, -0.1490, -0.1617,  0.1615, -0.0910,  0.1363,  0.1601,  0.0893,\n",
            "         -0.2833,  0.0531],\n",
            "        [ 0.2758,  0.0334, -0.3135,  0.0941, -0.1075, -0.2655,  0.0106, -0.0625,\n",
            "         -0.2395,  0.2669],\n",
            "        [ 0.2843, -0.2787,  0.0680,  0.0330,  0.2919, -0.2383,  0.1887, -0.2199,\n",
            "          0.2991,  0.0935],\n",
            "        [ 0.2149, -0.1516, -0.2607,  0.0904,  0.3111,  0.2334, -0.2586,  0.1078,\n",
            "         -0.2792,  0.0808],\n",
            "        [-0.3136,  0.2365,  0.0366,  0.1578, -0.1888, -0.2501,  0.0408, -0.2580,\n",
            "          0.1369, -0.0643]], requires_grad=True)\n",
            "Parameter containing:\n",
            "tensor([-0.3156,  0.2192,  0.0731,  0.1478, -0.1398], requires_grad=True)\n",
            "Parameter containing:\n",
            "tensor([[-0.0967, -0.1836, -0.2814,  0.1322, -0.0049]], requires_grad=True)\n",
            "Parameter containing:\n",
            "tensor([-0.2160], requires_grad=True)\n"
          ]
        }
      ]
    },
    {
      "cell_type": "code",
      "source": [
        "net.parameters()"
      ],
      "metadata": {
        "colab": {
          "base_uri": "https://localhost:8080/"
        },
        "id": "bgtgYzA6phi_",
        "outputId": "4b013f38-0029-4099-b5ba-fbfdf169f4fd"
      },
      "execution_count": null,
      "outputs": [
        {
          "output_type": "execute_result",
          "data": {
            "text/plain": [
              "<generator object Module.parameters at 0x78b3aa5c83c0>"
            ]
          },
          "metadata": {},
          "execution_count": 81
        }
      ]
    },
    {
      "cell_type": "code",
      "source": [
        "for each in net.parameters():\n",
        "  print(each)"
      ],
      "metadata": {
        "colab": {
          "base_uri": "https://localhost:8080/"
        },
        "id": "XDC-CGh8pqTC",
        "outputId": "d5c2c63c-8ccb-4cd9-b5ce-f90cdbdcb4dc"
      },
      "execution_count": null,
      "outputs": [
        {
          "output_type": "stream",
          "name": "stdout",
          "text": [
            "Parameter containing:\n",
            "tensor([[-0.0684, -0.1490, -0.1617,  0.1615, -0.0910,  0.1363,  0.1601,  0.0893,\n",
            "         -0.2833,  0.0531],\n",
            "        [ 0.2758,  0.0334, -0.3135,  0.0941, -0.1075, -0.2655,  0.0106, -0.0625,\n",
            "         -0.2395,  0.2669],\n",
            "        [ 0.2843, -0.2787,  0.0680,  0.0330,  0.2919, -0.2383,  0.1887, -0.2199,\n",
            "          0.2991,  0.0935],\n",
            "        [ 0.2149, -0.1516, -0.2607,  0.0904,  0.3111,  0.2334, -0.2586,  0.1078,\n",
            "         -0.2792,  0.0808],\n",
            "        [-0.3136,  0.2365,  0.0366,  0.1578, -0.1888, -0.2501,  0.0408, -0.2580,\n",
            "          0.1369, -0.0643]], requires_grad=True)\n",
            "Parameter containing:\n",
            "tensor([-0.3156,  0.2192,  0.0731,  0.1478, -0.1398], requires_grad=True)\n",
            "Parameter containing:\n",
            "tensor([[-0.0967, -0.1836, -0.2814,  0.1322, -0.0049]], requires_grad=True)\n",
            "Parameter containing:\n",
            "tensor([-0.2160], requires_grad=True)\n"
          ]
        }
      ]
    },
    {
      "cell_type": "code",
      "source": [
        "for each in net.parameters():\n",
        "  print(each.shape)"
      ],
      "metadata": {
        "colab": {
          "base_uri": "https://localhost:8080/"
        },
        "id": "5__K1Idtpy1A",
        "outputId": "eadf975c-0146-40d2-bdc3-b11dc8d1bf48"
      },
      "execution_count": null,
      "outputs": [
        {
          "output_type": "stream",
          "name": "stdout",
          "text": [
            "torch.Size([5, 10])\n",
            "torch.Size([5])\n",
            "torch.Size([1, 5])\n",
            "torch.Size([1])\n"
          ]
        }
      ]
    },
    {
      "cell_type": "code",
      "source": [],
      "metadata": {
        "id": "_Cdx4x68p3uU"
      },
      "execution_count": null,
      "outputs": []
    },
    {
      "cell_type": "markdown",
      "source": [
        "# nn.Sequential"
      ],
      "metadata": {
        "id": "hXFsVIMjp7tj"
      }
    },
    {
      "cell_type": "code",
      "source": [
        "model = nn.Sequential(\n",
        "    nn.Linear(10, 5),\n",
        "    nn.ReLU(),\n",
        "    nn.Linear(5, 1))\n",
        "\n",
        "print(model)"
      ],
      "metadata": {
        "colab": {
          "base_uri": "https://localhost:8080/"
        },
        "id": "g8J9Txh5p-L7",
        "outputId": "446a11d2-09fb-4195-9845-0118bb4be595"
      },
      "execution_count": null,
      "outputs": [
        {
          "output_type": "stream",
          "name": "stdout",
          "text": [
            "Sequential(\n",
            "  (0): Linear(in_features=10, out_features=5, bias=True)\n",
            "  (1): ReLU()\n",
            "  (2): Linear(in_features=5, out_features=1, bias=True)\n",
            ")\n"
          ]
        }
      ]
    },
    {
      "cell_type": "code",
      "source": [
        "input = torch.randn(1, 10)\n",
        "model(input)"
      ],
      "metadata": {
        "colab": {
          "base_uri": "https://localhost:8080/"
        },
        "id": "BnqRW0eaquBo",
        "outputId": "9cc56280-2f28-4b37-c6af-56bd9f854fd3"
      },
      "execution_count": null,
      "outputs": [
        {
          "output_type": "execute_result",
          "data": {
            "text/plain": [
              "tensor([[0.1119]], grad_fn=<AddmmBackward0>)"
            ]
          },
          "metadata": {},
          "execution_count": 85
        }
      ]
    },
    {
      "cell_type": "code",
      "source": [
        "model[0].weight"
      ],
      "metadata": {
        "colab": {
          "base_uri": "https://localhost:8080/"
        },
        "id": "Dy_9zH_UrAAL",
        "outputId": "4e900981-2d85-4f2c-838e-5e2546b46cb0"
      },
      "execution_count": null,
      "outputs": [
        {
          "output_type": "execute_result",
          "data": {
            "text/plain": [
              "Parameter containing:\n",
              "tensor([[-0.0075, -0.0158, -0.1553, -0.0156, -0.0409, -0.0563, -0.1461,  0.2849,\n",
              "         -0.2431, -0.2532],\n",
              "        [-0.2584,  0.2925,  0.0079, -0.2796, -0.1661,  0.2149, -0.0012,  0.0966,\n",
              "          0.1658,  0.2926],\n",
              "        [-0.0022,  0.2786, -0.2931,  0.2332, -0.0801, -0.1135,  0.3143, -0.2097,\n",
              "         -0.2325, -0.2014],\n",
              "        [-0.0043,  0.0485,  0.3028,  0.0354, -0.0871,  0.0526,  0.1942,  0.0009,\n",
              "          0.2455,  0.3099],\n",
              "        [ 0.0828, -0.2684,  0.1244,  0.0329,  0.0430, -0.0337, -0.1285,  0.2087,\n",
              "         -0.0480, -0.0479]], requires_grad=True)"
            ]
          },
          "metadata": {},
          "execution_count": 86
        }
      ]
    },
    {
      "cell_type": "code",
      "source": [
        "model[0].bias"
      ],
      "metadata": {
        "colab": {
          "base_uri": "https://localhost:8080/"
        },
        "id": "pqn1MpSGrLln",
        "outputId": "3336a8f4-06c0-475a-bb7e-fca4d9235094"
      },
      "execution_count": null,
      "outputs": [
        {
          "output_type": "execute_result",
          "data": {
            "text/plain": [
              "Parameter containing:\n",
              "tensor([0.1456, 0.2513, 0.1404, 0.1373, 0.2302], requires_grad=True)"
            ]
          },
          "metadata": {},
          "execution_count": 87
        }
      ]
    },
    {
      "cell_type": "code",
      "source": [
        "model[2].weight"
      ],
      "metadata": {
        "colab": {
          "base_uri": "https://localhost:8080/"
        },
        "id": "4gcERK4grNlP",
        "outputId": "80bdf0f9-d7f5-4e1a-b94a-1c7169362514"
      },
      "execution_count": null,
      "outputs": [
        {
          "output_type": "execute_result",
          "data": {
            "text/plain": [
              "Parameter containing:\n",
              "tensor([[-0.3510,  0.1175,  0.3746, -0.3800,  0.0379]], requires_grad=True)"
            ]
          },
          "metadata": {},
          "execution_count": 88
        }
      ]
    },
    {
      "cell_type": "code",
      "source": [],
      "metadata": {
        "id": "wXodqmVNrib8"
      },
      "execution_count": null,
      "outputs": []
    },
    {
      "cell_type": "markdown",
      "source": [
        "# Optimization"
      ],
      "metadata": {
        "id": "RhqYHjc9rjoi"
      }
    },
    {
      "cell_type": "code",
      "source": [
        "class SimpleModel(nn.Module):\n",
        "  def __init__(self):\n",
        "    super(SimpleModel, self).__init__()\n",
        "    self.layer1 = nn.Linear(10, 5)\n",
        "    self.relu = nn.ReLU()\n",
        "    self.layer2 = nn.Linear(5, 1)\n",
        "\n",
        "  def forward(self, x):\n",
        "    x = self.layer1(x)\n",
        "    x = self.relu(x)\n",
        "    x = self.layer2(x)\n",
        "    return x\n",
        "\n",
        "net = SimpleModel()\n",
        "# net.parameters()\n",
        "\n",
        "\n",
        "inputs = torch.randn(100, 10)\n",
        "targets = torch.randn(100, 1)\n",
        "\n",
        "criterion = nn.MSELoss()\n",
        "\n",
        "optimizer = optim.SGD(net.parameters(), lr = 0.01)\n",
        "\n",
        "for epoch in range(1000):\n",
        "  optimizer.zero_grad()\n",
        "\n",
        "  # forward pass\n",
        "  outputs = net(inputs)\n",
        "\n",
        "  # loss computation\n",
        "  loss = criterion(outputs, targets)\n",
        "\n",
        "  # backward pass\n",
        "  loss.backward()\n",
        "  optimizer.step()\n",
        "\n",
        "  if epoch % 100 == 0:\n",
        "    print('Epoch', epoch, 'Loss', loss.item())\n",
        "\n",
        "\n",
        "\n",
        "\n"
      ],
      "metadata": {
        "colab": {
          "base_uri": "https://localhost:8080/"
        },
        "id": "wMz74LuirmRO",
        "outputId": "eba8da53-f08e-44e9-8a8a-d4164b84dd8e"
      },
      "execution_count": null,
      "outputs": [
        {
          "output_type": "stream",
          "name": "stdout",
          "text": [
            "Epoch 0 Loss 1.2540632486343384\n",
            "Epoch 100 Loss 1.0855813026428223\n",
            "Epoch 200 Loss 1.054436206817627\n",
            "Epoch 300 Loss 1.0190913677215576\n",
            "Epoch 400 Loss 0.9792024493217468\n",
            "Epoch 500 Loss 0.9391087293624878\n",
            "Epoch 600 Loss 0.9043773412704468\n",
            "Epoch 700 Loss 0.8706095218658447\n",
            "Epoch 800 Loss 0.8427315354347229\n",
            "Epoch 900 Loss 0.8173635005950928\n"
          ]
        }
      ]
    },
    {
      "cell_type": "code",
      "source": [
        "torch.save(net, 'model.pt')"
      ],
      "metadata": {
        "id": "gjFVJoQxvvI1"
      },
      "execution_count": null,
      "outputs": []
    },
    {
      "cell_type": "code",
      "source": [],
      "metadata": {
        "id": "TD9G-FflwVuq"
      },
      "execution_count": null,
      "outputs": []
    },
    {
      "cell_type": "markdown",
      "source": [
        "# ANN Full Example"
      ],
      "metadata": {
        "id": "cqmlBM5Hw345"
      }
    },
    {
      "cell_type": "code",
      "source": [
        "import numpy as np\n",
        "X = np.random.rand(100, 1)*10\n",
        "true_w = 3\n",
        "true_b = 2\n",
        "y = true_w*X + true_b + np.random.randn(100, 1)*0.2\n",
        "\n",
        "# y"
      ],
      "metadata": {
        "id": "l301STtmw8u1"
      },
      "execution_count": null,
      "outputs": []
    },
    {
      "cell_type": "code",
      "source": [
        "from sklearn.model_selection import train_test_split\n",
        "X_train, X_test, y_train, y_test = train_test_split(X, y, test_size = 0.2, random_state = 24)"
      ],
      "metadata": {
        "id": "MjPLnWrJxqXc"
      },
      "execution_count": null,
      "outputs": []
    },
    {
      "cell_type": "code",
      "source": [
        "X_train_t = torch.tensor(X_train, dtype = torch.float32)\n",
        "y_train_t = torch.tensor(y_train, dtype = torch.float32)\n",
        "X_test_t = torch.tensor(X_test, dtype = torch.float32)\n",
        "y_test_t = torch.tensor(y_test, dtype = torch.float32)\n"
      ],
      "metadata": {
        "id": "WqdtN_6HyBNG"
      },
      "execution_count": null,
      "outputs": []
    },
    {
      "cell_type": "code",
      "source": [
        "class LinearReg(nn.Module):\n",
        "  def __init__(self):\n",
        "    super(LinearReg, self).__init__()\n",
        "    self.linear = nn.Linear(1, 1)\n",
        "\n",
        "  def forward(self, x):\n",
        "    return self.linear(x)\n",
        "\n",
        "model = LinearReg()"
      ],
      "metadata": {
        "id": "iQucWgG-yk62"
      },
      "execution_count": null,
      "outputs": []
    },
    {
      "cell_type": "code",
      "source": [
        "model.linear.weight.item()"
      ],
      "metadata": {
        "colab": {
          "base_uri": "https://localhost:8080/"
        },
        "id": "uX4xxIi7zIGD",
        "outputId": "3dde1c75-5761-4e92-d001-a3d722ff3f51"
      },
      "execution_count": null,
      "outputs": [
        {
          "output_type": "execute_result",
          "data": {
            "text/plain": [
              "-0.5523146390914917"
            ]
          },
          "metadata": {},
          "execution_count": 95
        }
      ]
    },
    {
      "cell_type": "code",
      "source": [
        "model.linear.bias.item()"
      ],
      "metadata": {
        "colab": {
          "base_uri": "https://localhost:8080/"
        },
        "id": "2iXHfkMKzN9U",
        "outputId": "58f798c1-c19e-4439-d408-21682628d326"
      },
      "execution_count": null,
      "outputs": [
        {
          "output_type": "execute_result",
          "data": {
            "text/plain": [
              "0.18448173999786377"
            ]
          },
          "metadata": {},
          "execution_count": 96
        }
      ]
    },
    {
      "cell_type": "code",
      "source": [
        "for each in model.parameters():\n",
        "  print(each)"
      ],
      "metadata": {
        "colab": {
          "base_uri": "https://localhost:8080/"
        },
        "id": "KAFzy1zbzlqF",
        "outputId": "b5648eb3-75ca-46a8-fd29-b833bdecbf9d"
      },
      "execution_count": null,
      "outputs": [
        {
          "output_type": "stream",
          "name": "stdout",
          "text": [
            "Parameter containing:\n",
            "tensor([[-0.5523]], requires_grad=True)\n",
            "Parameter containing:\n",
            "tensor([0.1845], requires_grad=True)\n"
          ]
        }
      ]
    },
    {
      "cell_type": "code",
      "source": [
        "criterion = nn.MSELoss()\n",
        "\n",
        "optimizer = optim.SGD(model.parameters(), lr = 0.01)\n",
        "\n",
        "for epoch in range(1000):\n",
        "  optimizer.zero_grad()\n",
        "  outputs = model(X_train_t)\n",
        "  loss = criterion(outputs, y_train_t)\n",
        "  loss.backward()\n",
        "  optimizer.step()\n",
        "\n",
        "  if (epoch+1) % 100 == 0:\n",
        "    print('Epoch:', epoch, 'Loss:', loss.item())\n",
        "    print(model.linear.weight.item(), model.linear.bias.item())\n"
      ],
      "metadata": {
        "colab": {
          "base_uri": "https://localhost:8080/"
        },
        "id": "V94i9RbhzVI8",
        "outputId": "95ebc33d-e5a6-420c-a46b-7bd16ae99045"
      },
      "execution_count": null,
      "outputs": [
        {
          "output_type": "stream",
          "name": "stdout",
          "text": [
            "Epoch: 99 Loss: 0.17627473175525665\n",
            "3.1167120933532715 1.2001125812530518\n",
            "Epoch: 199 Loss: 0.08964947611093521\n",
            "3.074207067489624 1.4875314235687256\n",
            "Epoch: 299 Loss: 0.05625467374920845\n",
            "3.047816038131714 1.6659880876541138\n",
            "Epoch: 399 Loss: 0.043380677700042725\n",
            "3.0314297676086426 1.776790738105774\n",
            "Epoch: 499 Loss: 0.0384175106883049\n",
            "3.0212557315826416 1.8455877304077148\n",
            "Epoch: 599 Loss: 0.036504246294498444\n",
            "3.0149388313293457 1.8883029222488403\n",
            "Epoch: 699 Loss: 0.035766635090112686\n",
            "3.011016607284546 1.9148246049880981\n",
            "Epoch: 799 Loss: 0.03548230975866318\n",
            "3.0085811614990234 1.9312920570373535\n",
            "Epoch: 899 Loss: 0.035372696816921234\n",
            "3.0070693492889404 1.9415165185928345\n",
            "Epoch: 999 Loss: 0.03533041477203369\n",
            "3.0061304569244385 1.9478650093078613\n"
          ]
        }
      ]
    },
    {
      "cell_type": "code",
      "source": [
        "with torch.no_grad():\n",
        "  preds = model(X_test_t)\n",
        "  test_loss = criterion(preds, y_test_t)\n",
        "\n",
        "print(test_loss)"
      ],
      "metadata": {
        "colab": {
          "base_uri": "https://localhost:8080/"
        },
        "id": "DXQn1G8w0_72",
        "outputId": "d196eb40-5961-43db-81b6-221dd2773045"
      },
      "execution_count": null,
      "outputs": [
        {
          "output_type": "stream",
          "name": "stdout",
          "text": [
            "tensor(0.0403)\n"
          ]
        }
      ]
    },
    {
      "cell_type": "code",
      "source": [
        "print(model.linear.weight.item())\n",
        "print(model.linear.bias.item())"
      ],
      "metadata": {
        "colab": {
          "base_uri": "https://localhost:8080/"
        },
        "id": "L0agDMh81sAw",
        "outputId": "10350a9d-798f-45d8-d3fd-fc2a972f22fc"
      },
      "execution_count": null,
      "outputs": [
        {
          "output_type": "stream",
          "name": "stdout",
          "text": [
            "3.0061304569244385\n",
            "1.9478650093078613\n"
          ]
        }
      ]
    },
    {
      "cell_type": "markdown",
      "source": [
        "# Real world data ANN"
      ],
      "metadata": {
        "id": "NyySkYdH2GJB"
      }
    },
    {
      "cell_type": "code",
      "source": [
        "from sklearn.datasets import fetch_california_housing\n",
        "\n",
        "data = fetch_california_housing()"
      ],
      "metadata": {
        "id": "5uwznyim2J6v"
      },
      "execution_count": null,
      "outputs": []
    },
    {
      "cell_type": "code",
      "source": [
        "data.data"
      ],
      "metadata": {
        "colab": {
          "base_uri": "https://localhost:8080/"
        },
        "id": "y_yx3N532YX3",
        "outputId": "354687a0-a24f-42d4-e7ff-2d9a5eeccdae"
      },
      "execution_count": null,
      "outputs": [
        {
          "output_type": "execute_result",
          "data": {
            "text/plain": [
              "array([[   8.3252    ,   41.        ,    6.98412698, ...,    2.55555556,\n",
              "          37.88      , -122.23      ],\n",
              "       [   8.3014    ,   21.        ,    6.23813708, ...,    2.10984183,\n",
              "          37.86      , -122.22      ],\n",
              "       [   7.2574    ,   52.        ,    8.28813559, ...,    2.80225989,\n",
              "          37.85      , -122.24      ],\n",
              "       ...,\n",
              "       [   1.7       ,   17.        ,    5.20554273, ...,    2.3256351 ,\n",
              "          39.43      , -121.22      ],\n",
              "       [   1.8672    ,   18.        ,    5.32951289, ...,    2.12320917,\n",
              "          39.43      , -121.32      ],\n",
              "       [   2.3886    ,   16.        ,    5.25471698, ...,    2.61698113,\n",
              "          39.37      , -121.24      ]])"
            ]
          },
          "metadata": {},
          "execution_count": 104
        }
      ]
    },
    {
      "cell_type": "code",
      "source": [
        "data.target"
      ],
      "metadata": {
        "colab": {
          "base_uri": "https://localhost:8080/"
        },
        "id": "SRT84tWr2bBA",
        "outputId": "6f4ac104-9577-4d7f-b60e-48ada166bb4c"
      },
      "execution_count": null,
      "outputs": [
        {
          "output_type": "execute_result",
          "data": {
            "text/plain": [
              "array([4.526, 3.585, 3.521, ..., 0.923, 0.847, 0.894])"
            ]
          },
          "metadata": {},
          "execution_count": 105
        }
      ]
    }
  ]
}